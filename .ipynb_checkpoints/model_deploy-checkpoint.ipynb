{
 "cells": [
  {
   "cell_type": "markdown",
   "id": "337aade6-aff2-4e64-b243-c4b104625cc9",
   "metadata": {},
   "source": [
    "## Initial Data Exploration"
   ]
  },
  {
   "cell_type": "code",
   "execution_count": 1,
   "id": "b0fabd6f-85de-4472-9a86-992092aec1ef",
   "metadata": {},
   "outputs": [],
   "source": [
    "try:\n",
    "    from pyspark import SparkContext, SparkConf\n",
    "    from pyspark.sql import SparkSession\n",
    "except ImportError as e:\n",
    "    printmd('you got an issue...')\n"
   ]
  },
  {
   "cell_type": "code",
   "execution_count": 2,
   "id": "659f001e-fb95-4a69-9b50-34caa0ba78bc",
   "metadata": {},
   "outputs": [
    {
     "name": "stderr",
     "output_type": "stream",
     "text": [
      "Setting default log level to \"WARN\".\n",
      "To adjust logging level use sc.setLogLevel(newLevel). For SparkR, use setLogLevel(newLevel).\n",
      "24/02/24 23:39:50 WARN NativeCodeLoader: Unable to load native-hadoop library for your platform... using builtin-java classes where applicable\n",
      "24/02/24 23:39:51 WARN Utils: Service 'SparkUI' could not bind on port 4040. Attempting port 4041.\n",
      "24/02/24 23:39:51 WARN Utils: Service 'SparkUI' could not bind on port 4041. Attempting port 4042.\n",
      "24/02/24 23:39:51 WARN Utils: Service 'SparkUI' could not bind on port 4042. Attempting port 4043.\n",
      "24/02/24 23:39:51 WARN Utils: Service 'SparkUI' could not bind on port 4043. Attempting port 4044.\n"
     ]
    }
   ],
   "source": [
    "sc = SparkContext.getOrCreate(SparkConf().setMaster(\"local[*]\"))\n",
    "\n",
    "spark = SparkSession \\\n",
    "    .builder \\\n",
    "    .getOrCreate()"
   ]
  },
  {
   "cell_type": "markdown",
   "id": "87f2c462-1c89-44ce-8e8b-101adbdf25f4",
   "metadata": {},
   "source": [
    "• Data types - completed, all colummns are numbers now\n",
    "\n",
    "• Ranges -  Use stats: yes\n",
    "visualizations - yes box-plot, histogram\n",
    "\n",
    "• Emptiness - good\n",
    "\n",
    "• Uniqueness - duplicates are dropped! no primary keys\n",
    "\n",
    "• Set memberships - confirmed.\n",
    "\n",
    "• Foreign key set memberships - good,only allowed keys\n",
    "\n",
    "• Regular expressions - good,none\n",
    "\n",
    "• Cross-field validation - good"
   ]
  },
  {
   "cell_type": "markdown",
   "id": "7d3c55cf-e7ce-4b6f-a4f0-cb2f5d0d664d",
   "metadata": {},
   "source": [
    "Open up CSV file:"
   ]
  },
  {
   "cell_type": "code",
   "execution_count": 3,
   "id": "761e4e13-6b99-4d50-a810-594e37a9f6b2",
   "metadata": {},
   "outputs": [],
   "source": [
    "df = spark.read.csv(\"heart.csv\",header=True)"
   ]
  },
  {
   "cell_type": "markdown",
   "id": "d1593cd4-e5ad-42f7-b6f3-bdc06d08368a",
   "metadata": {},
   "source": [
    "Age : Age of the patient\n",
    "\n",
    "Sex : Sex of the patient\n",
    "\n",
    "exang: exercise induced angina (1 = yes; 0 = no)\n",
    "\n",
    "ca: number of major vessels (0-4)\n",
    "\n",
    "cp : Chest Pain type chest pain type\n",
    "\n",
    "Value 0: typical angina Value 1: atypical angina Value 2: non-anginal pain Value 3: asymptomatic\n",
    "\n",
    "trtbps : resting blood pressure (in mm Hg)\n",
    "\n",
    "chol : cholestoral in mg/dl fetched via BMI sensor\n",
    "\n",
    "fbs : (fasting blood sugar > 120 mg/dl) (1 = true; 0 = false)\n",
    "\n",
    "rest_ecg : resting electrocardiographic results\n",
    "\n",
    "Value 0: normal Value 1: having ST-T wave abnormality (T wave inversions and/or ST elevation or depression of > 0.05 mV) Value 2: showing probable or definite left ventricular hypertrophy by Estes' criteria thalach : maximum heart rate achieved\n",
    "\n",
    "target : 0= less chance of heart attack 1= more chance of heart attack"
   ]
  },
  {
   "cell_type": "markdown",
   "id": "89009b01-4949-407d-a654-427eb4787ba4",
   "metadata": {},
   "source": [
    "Number of Patients"
   ]
  },
  {
   "cell_type": "code",
   "execution_count": 4,
   "id": "2fef266e-9c3c-4078-ad69-37c178e1a7db",
   "metadata": {},
   "outputs": [
    {
     "data": {
      "text/plain": [
       "303"
      ]
     },
     "execution_count": 4,
     "metadata": {},
     "output_type": "execute_result"
    }
   ],
   "source": [
    "df.count()"
   ]
  },
  {
   "cell_type": "markdown",
   "id": "b106b405-fc4b-4740-9944-8306afe51027",
   "metadata": {},
   "source": [
    "Now we register the data frame in the ApacheSparkSQL catalog so that we can query it using SQL"
   ]
  },
  {
   "cell_type": "code",
   "execution_count": 5,
   "id": "354f6701-1ff9-4535-adf1-42deeea4eb1f",
   "metadata": {},
   "outputs": [
    {
     "name": "stdout",
     "output_type": "stream",
     "text": [
      "+---+---+---+------+----+---+-------+--------+----+-------+---+---+-----+------+\n",
      "|age|sex| cp|trtbps|chol|fbs|restecg|thalachh|exng|oldpeak|slp|caa|thall|output|\n",
      "+---+---+---+------+----+---+-------+--------+----+-------+---+---+-----+------+\n",
      "| 63|  1|  3|   145| 233|  1|      0|     150|   0|    2.3|  0|  0|    1|     1|\n",
      "| 37|  1|  2|   130| 250|  0|      1|     187|   0|    3.5|  0|  0|    2|     1|\n",
      "| 41|  0|  1|   130| 204|  0|      0|     172|   0|    1.4|  2|  0|    2|     1|\n",
      "| 56|  1|  1|   120| 236|  0|      1|     178|   0|    0.8|  2|  0|    2|     1|\n",
      "| 57|  0|  0|   120| 354|  0|      1|     163|   1|    0.6|  2|  0|    2|     1|\n",
      "| 57|  1|  0|   140| 192|  0|      1|     148|   0|    0.4|  1|  0|    1|     1|\n",
      "| 56|  0|  1|   140| 294|  0|      0|     153|   0|    1.3|  1|  0|    2|     1|\n",
      "| 44|  1|  1|   120| 263|  0|      1|     173|   0|      0|  2|  0|    3|     1|\n",
      "| 52|  1|  2|   172| 199|  1|      1|     162|   0|    0.5|  2|  0|    3|     1|\n",
      "| 57|  1|  2|   150| 168|  0|      1|     174|   0|    1.6|  2|  0|    2|     1|\n",
      "| 54|  1|  0|   140| 239|  0|      1|     160|   0|    1.2|  2|  0|    2|     1|\n",
      "| 48|  0|  2|   130| 275|  0|      1|     139|   0|    0.2|  2|  0|    2|     1|\n",
      "| 49|  1|  1|   130| 266|  0|      1|     171|   0|    0.6|  2|  0|    2|     1|\n",
      "| 64|  1|  3|   110| 211|  0|      0|     144|   1|    1.8|  1|  0|    2|     1|\n",
      "| 58|  0|  3|   150| 283|  1|      0|     162|   0|      1|  2|  0|    2|     1|\n",
      "| 50|  0|  2|   120| 219|  0|      1|     158|   0|    1.6|  1|  0|    2|     1|\n",
      "| 58|  0|  2|   120| 340|  0|      1|     172|   0|      0|  2|  0|    2|     1|\n",
      "| 66|  0|  3|   150| 226|  0|      1|     114|   0|    2.6|  0|  0|    2|     1|\n",
      "| 43|  1|  0|   150| 247|  0|      1|     171|   0|    1.5|  2|  0|    2|     1|\n",
      "| 69|  0|  3|   140| 239|  0|      1|     151|   0|    1.8|  2|  2|    2|     1|\n",
      "+---+---+---+------+----+---+-------+--------+----+-------+---+---+-----+------+\n",
      "only showing top 20 rows\n",
      "\n"
     ]
    }
   ],
   "source": [
    "df.createOrReplaceTempView(\"heart\")\n",
    "spark.sql(\"SELECT * FROM heart\").show()"
   ]
  },
  {
   "cell_type": "code",
   "execution_count": 6,
   "id": "626c9ce9-9267-4c73-8067-a3cc032cb890",
   "metadata": {},
   "outputs": [
    {
     "data": {
      "text/plain": [
       "[('age', 'string'),\n",
       " ('sex', 'string'),\n",
       " ('cp', 'string'),\n",
       " ('trtbps', 'string'),\n",
       " ('chol', 'string'),\n",
       " ('fbs', 'string'),\n",
       " ('restecg', 'string'),\n",
       " ('thalachh', 'string'),\n",
       " ('exng', 'string'),\n",
       " ('oldpeak', 'string'),\n",
       " ('slp', 'string'),\n",
       " ('caa', 'string'),\n",
       " ('thall', 'string'),\n",
       " ('output', 'string')]"
      ]
     },
     "execution_count": 6,
     "metadata": {},
     "output_type": "execute_result"
    }
   ],
   "source": [
    "# see colummns and data types\n",
    "df.dtypes"
   ]
  },
  {
   "cell_type": "code",
   "execution_count": 7,
   "id": "dedd672b-f235-4b43-8627-cfe2bd851a67",
   "metadata": {},
   "outputs": [],
   "source": [
    "# change datatypes \n",
    "df2 = spark.sql(''' \n",
    "SELECT  \n",
    "  INT(age), \n",
    "  INT(sex), \n",
    "  INT(cp), \n",
    "  INT(trtbps), \n",
    "  INT(chol), \n",
    "  INT(fbs),\n",
    "  INT(restecg),\n",
    "  INT(thalachh),\n",
    "  INT(exng),\n",
    "  FLOAT(oldpeak),\n",
    "  INT(slp),\n",
    "  INT(caa),\n",
    "  INT(thall),\n",
    "  INT(output)\n",
    "FROM heart \n",
    "''') "
   ]
  },
  {
   "cell_type": "code",
   "execution_count": 8,
   "id": "94adb1f6-88ca-4b08-9006-c6d015fa2894",
   "metadata": {},
   "outputs": [
    {
     "data": {
      "text/plain": [
       "303"
      ]
     },
     "execution_count": 8,
     "metadata": {},
     "output_type": "execute_result"
    }
   ],
   "source": [
    "# get rid if null values\n",
    "no_null = df2.dropna()\n",
    "no_null.count()"
   ]
  },
  {
   "cell_type": "code",
   "execution_count": 9,
   "id": "f753a452-376f-4c4f-a209-25e041a6ea5a",
   "metadata": {},
   "outputs": [],
   "source": [
    "# get rid of duplicates\n",
    "df3 = no_null.dropDuplicates()"
   ]
  },
  {
   "cell_type": "code",
   "execution_count": 10,
   "id": "031ef15c-a6ca-48a7-a7be-2ca5d776a4b1",
   "metadata": {},
   "outputs": [
    {
     "data": {
      "text/plain": [
       "302"
      ]
     },
     "execution_count": 10,
     "metadata": {},
     "output_type": "execute_result"
    }
   ],
   "source": [
    "df3.count()"
   ]
  },
  {
   "cell_type": "markdown",
   "id": "b9b1b1a3-a4c7-4807-a875-7a7bdff9508a",
   "metadata": {},
   "source": [
    "Correlation Matrix"
   ]
  },
  {
   "cell_type": "code",
   "execution_count": 11,
   "id": "ec5a491b-8b54-4de1-b5df-02d9c8badddc",
   "metadata": {},
   "outputs": [],
   "source": [
    "from pyspark.ml.stat import Correlation\n",
    "from pyspark.ml.feature import VectorAssembler\n",
    "\n",
    "# convert to vector column first\n",
    "vector_col = \"corr_features\"\n",
    "assembler = VectorAssembler(inputCols=df3.columns, outputCol=vector_col)\n",
    "df_vector = assembler.transform(df3).select(vector_col)"
   ]
  },
  {
   "cell_type": "code",
   "execution_count": 12,
   "id": "cb603d2a-0388-401f-bf30-442bb3b5af4e",
   "metadata": {},
   "outputs": [
    {
     "name": "stderr",
     "output_type": "stream",
     "text": [
      "/var/folders/9g/dbpjb98j0f309r0sq0xtxb8r0000gn/T/ipykernel_4360/1337763602.py:1: DeprecationWarning: \n",
      "Pyarrow will become a required dependency of pandas in the next major release of pandas (pandas 3.0),\n",
      "(to allow more performant data types, such as the Arrow string type, and better interoperability with other libraries)\n",
      "but was not found to be installed on your system.\n",
      "If this would cause problems for you,\n",
      "please provide us feedback at https://github.com/pandas-dev/pandas/issues/54466\n",
      "        \n",
      "  import pandas as pd\n",
      "24/02/24 23:40:01 WARN InstanceBuilder: Failed to load implementation from:dev.ludovic.netlib.blas.JNIBLAS\n",
      "                                                                                \r"
     ]
    }
   ],
   "source": [
    "import pandas as pd\n",
    "\n",
    "# get correlation matrix\n",
    "matrix = Correlation.corr(df_vector, 'corr_features').collect()[0][0] \n",
    "corr_matrix = matrix.toArray().tolist() \n",
    "corr_matrix_df = pd.DataFrame(data=corr_matrix, columns = df3.columns, index= df3.columns) "
   ]
  },
  {
   "cell_type": "code",
   "execution_count": 13,
   "id": "39f4d305-6535-45dc-bce9-960eccaad624",
   "metadata": {},
   "outputs": [
    {
     "data": {
      "text/plain": [
       "<Axes: >"
      ]
     },
     "execution_count": 13,
     "metadata": {},
     "output_type": "execute_result"
    },
    {
     "data": {
      "image/png": "[encoded data removed]",
      "text/plain": [
       "<Figure size 1600x500 with 2 Axes>"
      ]
     },
     "metadata": {},
     "output_type": "display_data"
    }
   ],
   "source": [
    "import seaborn as sns \n",
    "import matplotlib.pyplot as plt\n",
    "\n",
    "plt.figure(figsize=(16,5))  \n",
    "sns.heatmap(corr_matrix_df, \n",
    "            xticklabels=corr_matrix_df.columns.values,\n",
    "            yticklabels=corr_matrix_df.columns.values,  cmap=\"Greens\", annot=True)"
   ]
  },
  {
   "cell_type": "markdown",
   "id": "673b4014-ce16-454c-94dc-b99100f682a1",
   "metadata": {},
   "source": [
    "Check out ranges of columns that are not categorical"
   ]
  },
  {
   "cell_type": "code",
   "execution_count": 14,
   "id": "6f22f55d-2bd5-4564-9a1f-16d3f27fc0ef",
   "metadata": {},
   "outputs": [],
   "source": [
    "from pyspark.sql import functions as F"
   ]
  },
  {
   "cell_type": "code",
   "execution_count": 15,
   "id": "8f84030d-25a6-4330-a985-772f7bf15147",
   "metadata": {},
   "outputs": [
    {
     "name": "stdout",
     "output_type": "stream",
     "text": [
      "+--------+--------+------------------+-----------------+\n",
      "|min(age)|max(age)|          avg(age)|         std(age)|\n",
      "+--------+--------+------------------+-----------------+\n",
      "|      29|      77|54.420529801324506|9.047969746247453|\n",
      "+--------+--------+------------------+-----------------+\n",
      "\n"
     ]
    }
   ],
   "source": [
    "df3.agg(F.min(df3.age), F.max(df3.age),F.avg(df3.age), F.std(df3.age)).show()"
   ]
  },
  {
   "cell_type": "code",
   "execution_count": 16,
   "id": "3823ffc7-5290-4995-846c-8cd1a82df858",
   "metadata": {},
   "outputs": [
    {
     "name": "stdout",
     "output_type": "stream",
     "text": [
      "+-----------+-----------+------------------+------------------+\n",
      "|min(trtbps)|max(trtbps)|       avg(trtbps)|       std(trtbps)|\n",
      "+-----------+-----------+------------------+------------------+\n",
      "|         94|        200|131.60264900662253|17.563394230037556|\n",
      "+-----------+-----------+------------------+------------------+\n",
      "\n"
     ]
    }
   ],
   "source": [
    "df3.agg(F.min(df3.trtbps), F.max(df3.trtbps),F.avg(df3.trtbps), F.std(df3.trtbps)).show()"
   ]
  },
  {
   "cell_type": "code",
   "execution_count": 17,
   "id": "060f3fa2-b8b8-47c5-a827-b78e84e96540",
   "metadata": {},
   "outputs": [
    {
     "name": "stdout",
     "output_type": "stream",
     "text": [
      "+---------+---------+---------+------------------+\n",
      "|min(chol)|max(chol)|avg(chol)|         std(chol)|\n",
      "+---------+---------+---------+------------------+\n",
      "|      126|      564|    246.5|51.753488655740576|\n",
      "+---------+---------+---------+------------------+\n",
      "\n"
     ]
    }
   ],
   "source": [
    "df3.agg(F.min(df3.chol), F.max(df3.chol),F.avg(df3.chol), F.std(df3.chol)).show()"
   ]
  },
  {
   "cell_type": "code",
   "execution_count": 18,
   "id": "47ce43ac-6350-48b0-8f45-590b66c4b9fb",
   "metadata": {},
   "outputs": [
    {
     "name": "stdout",
     "output_type": "stream",
     "text": [
      "+-------------+-------------+------------------+------------------+\n",
      "|min(thalachh)|max(thalachh)|     avg(thalachh)|     std(thalachh)|\n",
      "+-------------+-------------+------------------+------------------+\n",
      "|           71|          202|149.56953642384107|22.903527251969845|\n",
      "+-------------+-------------+------------------+------------------+\n",
      "\n"
     ]
    }
   ],
   "source": [
    "df3.agg(F.min(df3.thalachh), F.max(df3.thalachh),F.avg(df3.thalachh), F.std(df3.thalachh)).show()"
   ]
  },
  {
   "cell_type": "code",
   "execution_count": 19,
   "id": "0751e8cc-8003-42c8-a17a-4bbf49ce9ff3",
   "metadata": {},
   "outputs": [
    {
     "name": "stdout",
     "output_type": "stream",
     "text": [
      "+------------+------------+------------------+------------------+\n",
      "|min(oldpeak)|max(oldpeak)|      avg(oldpeak)|      std(oldpeak)|\n",
      "+------------+------------+------------------+------------------+\n",
      "|         0.0|         6.2|1.0430463560122922|1.1614522772331766|\n",
      "+------------+------------+------------------+------------------+\n",
      "\n"
     ]
    }
   ],
   "source": [
    "df3.agg(F.min(df3.oldpeak), F.max(df3.oldpeak), F.avg(df3.oldpeak), F.std(df3.oldpeak)).show()"
   ]
  },
  {
   "cell_type": "markdown",
   "id": "1e78c79e-887c-44f4-9495-52c92ef5c9aa",
   "metadata": {},
   "source": [
    "Set Memberships"
   ]
  },
  {
   "cell_type": "code",
   "execution_count": 20,
   "id": "2305e7dd-f418-4bb5-9ef2-a21a5d282fb4",
   "metadata": {},
   "outputs": [
    {
     "name": "stdout",
     "output_type": "stream",
     "text": [
      "sex values - [Row(sex='0'), Row(sex='1')]\n",
      "cp values - [Row(cp='3'), Row(cp='0'), Row(cp='1'), Row(cp='2')]\n",
      "fbs values - [Row(fbs='0'), Row(fbs='1')]\n",
      "restecg values - [Row(restecg='0'), Row(restecg='1'), Row(restecg='2')]\n",
      "exng values - [Row(exng='0'), Row(exng='1')]\n",
      "slp values - [Row(slp='0'), Row(slp='1'), Row(slp='2')]\n",
      "caa values - [Row(caa='3'), Row(caa='0'), Row(caa='1'), Row(caa='4'), Row(caa='2')]\n",
      "thall values - [Row(thall='3'), Row(thall='0'), Row(thall='1'), Row(thall='2')]\n",
      "output values - [Row(output='0'), Row(output='1')]\n"
     ]
    }
   ],
   "source": [
    "cat_cols = ['sex','cp','fbs', 'restecg', 'exng', 'slp', 'caa', 'thall', 'output']\n",
    "\n",
    "#df.select(\"name\").rdd.flatMap(lambda x: x).collect()\n",
    "for col in cat_cols:\n",
    "    print(f'{col} values - {df.select(col).distinct().collect()}')"
   ]
  },
  {
   "cell_type": "markdown",
   "id": "5ba64601-d763-4cc1-ba4b-b9a04933bda2",
   "metadata": {},
   "source": [
    "Data Visualization"
   ]
  },
  {
   "cell_type": "code",
   "execution_count": 21,
   "id": "c40b54b5-e20e-495b-9668-29489b44ede0",
   "metadata": {},
   "outputs": [
    {
     "name": "stderr",
     "output_type": "stream",
     "text": [
      "                                                                                \r"
     ]
    }
   ],
   "source": [
    "age_array = df3.rdd.map(lambda row : row.age).sample(False,0.1).collect()"
   ]
  },
  {
   "cell_type": "code",
   "execution_count": 22,
   "id": "67bde86f-341b-41c1-9685-378bb82b3234",
   "metadata": {},
   "outputs": [],
   "source": [
    "%matplotlib inline"
   ]
  },
  {
   "cell_type": "code",
   "execution_count": 23,
   "id": "de04624e-aeaf-4f6a-badf-7ab67a4586b9",
   "metadata": {},
   "outputs": [
    {
     "data": {
      "image/png": "[encoded data removed]",
      "text/plain": [
       "<Figure size 640x480 with 1 Axes>"
      ]
     },
     "metadata": {},
     "output_type": "display_data"
    }
   ],
   "source": [
    "import matplotlib.pyplot as plt\n",
    "plt.boxplot(age_array)\n",
    "plt.show()"
   ]
  },
  {
   "cell_type": "code",
   "execution_count": 24,
   "id": "4828b24d-71f6-4c32-9633-5a96e20596ff",
   "metadata": {},
   "outputs": [],
   "source": [
    "target_array = df3.rdd.map(lambda row : row.output).sample(False,0.1).collect()"
   ]
  },
  {
   "cell_type": "code",
   "execution_count": 25,
   "id": "e3bad966-079a-40d9-b34d-476851210b04",
   "metadata": {},
   "outputs": [
    {
     "data": {
      "image/png": "[encoded data removed]",
      "text/plain": [
       "<Figure size 640x480 with 1 Axes>"
      ]
     },
     "metadata": {},
     "output_type": "display_data"
    }
   ],
   "source": [
    "plt.hist(target_array)\n",
    "plt.show()"
   ]
  },
  {
   "cell_type": "markdown",
   "id": "cb5dad1b-b750-497d-a060-798a4f5ea546",
   "metadata": {},
   "source": [
    "Split up Train and Test data. Use seed so replication can reproduce similar results"
   ]
  },
  {
   "cell_type": "code",
   "execution_count": 26,
   "id": "af069f40-4c23-4cca-8b17-03020dec4a30",
   "metadata": {},
   "outputs": [],
   "source": [
    "splits = df3.randomSplit([0.80, 0.2],32)"
   ]
  },
  {
   "cell_type": "code",
   "execution_count": 27,
   "id": "7860b7e3-9b16-4dfe-94b6-73d584cf887c",
   "metadata": {},
   "outputs": [],
   "source": [
    "df_train = splits[0]"
   ]
  },
  {
   "cell_type": "code",
   "execution_count": 28,
   "id": "3d90948e-dfd7-4b38-afb3-89b812ca8d72",
   "metadata": {},
   "outputs": [],
   "source": [
    "df_test = splits[1]"
   ]
  },
  {
   "cell_type": "markdown",
   "id": "495ef25a-e515-4e6f-8c8c-bfc3c62613bf",
   "metadata": {},
   "source": [
    "## Feauture Engineering"
   ]
  },
  {
   "cell_type": "code",
   "execution_count": 29,
   "id": "141ad35e-97fe-438c-bb95-8d53b5ed4a40",
   "metadata": {},
   "outputs": [],
   "source": [
    "from pyspark.ml.feature import StringIndexer, OneHotEncoder\n",
    "from pyspark.ml.linalg import Vectors\n",
    "from pyspark.ml.feature import VectorAssembler\n",
    "from pyspark.ml.feature import MinMaxScaler\n",
    "from pyspark.ml.feature import Normalizer"
   ]
  },
  {
   "cell_type": "code",
   "execution_count": 30,
   "id": "32fb7403-90d6-4d29-b247-fdd2c979afc7",
   "metadata": {},
   "outputs": [],
   "source": [
    "indexer = StringIndexer(inputCol=\"output\", outputCol=\"label\")"
   ]
  },
  {
   "cell_type": "code",
   "execution_count": 31,
   "id": "016ef48d-f8d9-4c39-b6ec-8beed1529d01",
   "metadata": {},
   "outputs": [],
   "source": [
    "encoder = OneHotEncoder(inputCol=\"label\", outputCol=\"labelVec\")"
   ]
  },
  {
   "cell_type": "code",
   "execution_count": 32,
   "id": "418ceabe-ff40-4b41-908e-27d6fb4c3bc0",
   "metadata": {},
   "outputs": [],
   "source": [
    "vectorAssembler = VectorAssembler(inputCols=['age','sex','cp','trtbps','chol','fbs','restecg',\n",
    " 'thalachh','exng','oldpeak','slp', 'caa', 'thall'],outputCol=\"features\")"
   ]
  },
  {
   "cell_type": "code",
   "execution_count": 33,
   "id": "7a998d65-1de0-43c8-a4ee-8e18136a1eef",
   "metadata": {},
   "outputs": [],
   "source": [
    "normalizer = MinMaxScaler(inputCol=\"features\", outputCol=\"features_norm\")"
   ]
  },
  {
   "cell_type": "markdown",
   "id": "f35e7fcd-499c-4572-b749-ac0f73da61bb",
   "metadata": {},
   "source": [
    "## Model Definition"
   ]
  },
  {
   "cell_type": "markdown",
   "id": "76f5d934-aaaf-4fef-adcc-58fee77ea810",
   "metadata": {},
   "source": [
    "Linear Support Vector Classification"
   ]
  },
  {
   "cell_type": "code",
   "execution_count": 34,
   "id": "17163b23-2948-4659-97d5-8470041e3acd",
   "metadata": {},
   "outputs": [],
   "source": [
    "from pyspark.ml.classification import LinearSVC\n",
    "\n",
    "lsvc = LinearSVC(maxIter=64, regParam=0.01,standardization=True)"
   ]
  },
  {
   "cell_type": "code",
   "execution_count": 35,
   "id": "66fbd488-a8f3-4e1c-af28-0d1408a19298",
   "metadata": {},
   "outputs": [],
   "source": [
    "from pyspark.ml import Pipeline\n",
    "pipeline = Pipeline(stages=[indexer, encoder, vectorAssembler, normalizer,lsvc])"
   ]
  },
  {
   "cell_type": "code",
   "execution_count": 36,
   "id": "c536620a-e1dd-4fcf-935c-25fbded93a1e",
   "metadata": {},
   "outputs": [
    {
     "name": "stderr",
     "output_type": "stream",
     "text": [
      "24/02/24 23:40:10 WARN SparkStringUtils: Truncated the string representation of a plan since it was too large. This behavior can be adjusted by setting 'spark.sql.debug.maxToStringFields'.\n"
     ]
    }
   ],
   "source": [
    "model = pipeline.fit(df_train)"
   ]
  },
  {
   "cell_type": "code",
   "execution_count": 37,
   "id": "6590e214-040e-4613-91fe-1a856c438730",
   "metadata": {},
   "outputs": [],
   "source": [
    "prediction = model.transform(df_train)"
   ]
  },
  {
   "cell_type": "code",
   "execution_count": 38,
   "id": "786f3a4d-77f7-4ae5-9b53-111d0abb389e",
   "metadata": {},
   "outputs": [
    {
     "data": {
      "text/plain": [
       "0.927817807514154"
      ]
     },
     "execution_count": 38,
     "metadata": {},
     "output_type": "execute_result"
    }
   ],
   "source": [
    "from pyspark.ml.evaluation import BinaryClassificationEvaluator\n",
    "\n",
    "# Evaluate model\n",
    "evaluator = BinaryClassificationEvaluator(rawPredictionCol=\"rawPrediction\")\n",
    "evaluator.evaluate(prediction)"
   ]
  },
  {
   "cell_type": "code",
   "execution_count": 39,
   "id": "f36fb804-1d96-4ab1-894c-02da09339856",
   "metadata": {},
   "outputs": [],
   "source": [
    "prediction = model.transform(df_test)"
   ]
  },
  {
   "cell_type": "code",
   "execution_count": 40,
   "id": "df645a33-09db-4150-a834-16f7e900da50",
   "metadata": {},
   "outputs": [],
   "source": [
    "evaluator = BinaryClassificationEvaluator(rawPredictionCol=\"rawPrediction\")"
   ]
  },
  {
   "cell_type": "code",
   "execution_count": 41,
   "id": "ecc354aa-21cb-49a0-8b1e-570caa82df88",
   "metadata": {},
   "outputs": [
    {
     "data": {
      "text/plain": [
       "0.875757575757576"
      ]
     },
     "execution_count": 41,
     "metadata": {},
     "output_type": "execute_result"
    }
   ],
   "source": [
    "evaluator.evaluate(prediction)"
   ]
  },
  {
   "cell_type": "code",
   "execution_count": 42,
   "id": "aeb1e807-1055-44a7-9c59-d77774bb3a6c",
   "metadata": {},
   "outputs": [],
   "source": [
    "from pyspark.ml.classification import RandomForestClassifier\n",
    "\n",
    "# Train a RandomForest model.\n",
    "rf = RandomForestClassifier(labelCol=\"label\", featuresCol=\"features_norm\", numTrees=10)"
   ]
  },
  {
   "cell_type": "code",
   "execution_count": 43,
   "id": "5b75bb12-0c3a-4d91-b47b-c06327e4580c",
   "metadata": {},
   "outputs": [],
   "source": [
    "pipeline2 = Pipeline(stages=[indexer, vectorAssembler, normalizer,rf])"
   ]
  },
  {
   "cell_type": "code",
   "execution_count": 44,
   "id": "2b8e1248-d8ab-4ece-a479-9a5d5efa2bc0",
   "metadata": {},
   "outputs": [],
   "source": [
    "model2 = pipeline2.fit(df_train)"
   ]
  },
  {
   "cell_type": "code",
   "execution_count": 45,
   "id": "48c5e1fd-3450-44d8-a2f2-346ed1ae6092",
   "metadata": {},
   "outputs": [],
   "source": [
    "prediction = model2.transform(df_train)"
   ]
  },
  {
   "cell_type": "code",
   "execution_count": 46,
   "id": "f435a702-1ea8-490f-bd40-ff14347b24f5",
   "metadata": {},
   "outputs": [
    {
     "data": {
      "text/plain": [
       "0.9860396294390118"
      ]
     },
     "execution_count": 46,
     "metadata": {},
     "output_type": "execute_result"
    }
   ],
   "source": [
    "evaluator.evaluate(prediction)"
   ]
  },
  {
   "cell_type": "code",
   "execution_count": 47,
   "id": "9704fc3f-2162-40f4-936d-aead35964640",
   "metadata": {},
   "outputs": [],
   "source": [
    "predictions = model2.transform(df_test)"
   ]
  },
  {
   "cell_type": "code",
   "execution_count": 48,
   "id": "af887ac3-ab86-4362-9eb2-56182b288231",
   "metadata": {},
   "outputs": [
    {
     "data": {
      "text/plain": [
       "0.9860396294390118"
      ]
     },
     "execution_count": 48,
     "metadata": {},
     "output_type": "execute_result"
    }
   ],
   "source": [
    "evaluator.evaluate(prediction)"
   ]
  },
  {
   "cell_type": "markdown",
   "id": "b8ebeba0-932a-40c8-ab4e-3a0d43248f96",
   "metadata": {},
   "source": [
    "Looks like Random Forest Classifier is the mest prediction model, let's see how we can change the parameters to increase the results. "
   ]
  },
  {
   "cell_type": "code",
   "execution_count": 49,
   "id": "1dd39d48-0ada-49fc-9865-2eb3ee0da2d7",
   "metadata": {},
   "outputs": [
    {
     "data": {
      "text/plain": [
       "0.9997426659804426"
      ]
     },
     "execution_count": 49,
     "metadata": {},
     "output_type": "execute_result"
    }
   ],
   "source": [
    "rf2 = RandomForestClassifier(labelCol=\"label\", featuresCol=\"features_norm\", numTrees=12,maxDepth=8 )\n",
    "pipeline2 = Pipeline(stages=[indexer, vectorAssembler, normalizer,rf2])\n",
    "model2 = pipeline2.fit(df_train)\n",
    "prediction2 = model2.transform(df_train)\n",
    "evaluator.evaluate(prediction2)"
   ]
  },
  {
   "cell_type": "code",
   "execution_count": 50,
   "id": "eb393be9-6aa4-4c52-a8e4-a2a4238953ef",
   "metadata": {},
   "outputs": [
    {
     "data": {
      "text/plain": [
       "0.9997426659804426"
      ]
     },
     "execution_count": 50,
     "metadata": {},
     "output_type": "execute_result"
    }
   ],
   "source": [
    "# Make predictions on test set\n",
    "predictions2 = model2.transform(df_test)\n",
    "evaluator.evaluate(prediction2)"
   ]
  },
  {
   "cell_type": "markdown",
   "id": "fe782a93-420c-4ad3-970a-3482a9ad4386",
   "metadata": {},
   "source": [
    "Deep Learning"
   ]
  },
  {
   "cell_type": "code",
   "execution_count": 51,
   "id": "095d4276-2363-457e-aeb0-a4d82ed71e4d",
   "metadata": {},
   "outputs": [],
   "source": [
    "train_test_split = df3.limit(256).randomSplit([0.7, 0.3],32)"
   ]
  },
  {
   "cell_type": "code",
   "execution_count": 52,
   "id": "d6c1d4aa-5f72-4888-a2d9-48da2988da8d",
   "metadata": {},
   "outputs": [],
   "source": [
    "train= train_test_split[0]\n",
    "test = train_test_split[1]"
   ]
  },
  {
   "cell_type": "code",
   "execution_count": 53,
   "id": "9b54575a-fb75-4824-b4f3-e2a4d066974a",
   "metadata": {},
   "outputs": [],
   "source": [
    "X_train = train.drop('output')\n",
    "X_test = test.drop('output')"
   ]
  },
  {
   "cell_type": "code",
   "execution_count": 54,
   "id": "89247a68-84eb-45a8-92ad-4d84bae65125",
   "metadata": {},
   "outputs": [],
   "source": [
    "Y_train = train.select(\"output\")\n",
    "Y_test = test.select(\"output\")"
   ]
  },
  {
   "cell_type": "code",
   "execution_count": 55,
   "id": "a093e4ca-2ab1-451a-a358-4eb7a0025883",
   "metadata": {},
   "outputs": [
    {
     "name": "stderr",
     "output_type": "stream",
     "text": [
      "2024-02-24 23:40:26.921918: I tensorflow/core/platform/cpu_feature_guard.cc:182] This TensorFlow binary is optimized to use available CPU instructions in performance-critical operations.\n",
      "To enable the following instructions: AVX2 FMA, in other operations, rebuild TensorFlow with the appropriate compiler flags.\n"
     ]
    }
   ],
   "source": [
    "import keras\n",
    "from keras.models import Model\n",
    "from keras.layers import Input, Dense\n",
    "from keras.layers import Dense, Dropout, Flatten, Dropout, Activation\n",
    "from keras.layers import Conv2D, MaxPooling2D\n",
    "from keras.datasets import mnist\n",
    "from keras.models import Sequential, load_model\n",
    "from keras.optimizers import RMSprop\n",
    "from keras.layers import LeakyReLU\n",
    "from keras.optimizers import SGD\n",
    "\n",
    "from keras import backend as K\n",
    "import numpy as np"
   ]
  },
  {
   "cell_type": "code",
   "execution_count": 56,
   "id": "6f43bc77-5a8a-49e4-becd-2355e35ed326",
   "metadata": {},
   "outputs": [],
   "source": [
    "batch_size = 32\n",
    "num_classes = 10\n",
    "epochs = 8"
   ]
  },
  {
   "cell_type": "code",
   "execution_count": 57,
   "id": "4c1f6453-8013-42e9-b2e7-d8acda627feb",
   "metadata": {},
   "outputs": [],
   "source": [
    "x_train = X_train.toPandas().astype('float64')\n",
    "x_test = X_test.toPandas().astype('float64')"
   ]
  },
  {
   "cell_type": "code",
   "execution_count": 58,
   "id": "88301bba-10d5-4232-93d3-2e261c2722ba",
   "metadata": {},
   "outputs": [],
   "source": [
    "# convert class vectors to binary class matrices\n",
    "y_train = keras.utils.to_categorical(Y_train.toPandas(), num_classes)\n",
    "y_test = keras.utils.to_categorical(Y_test.toPandas(), num_classes)"
   ]
  },
  {
   "cell_type": "code",
   "execution_count": 59,
   "id": "576436ce-c0da-4bcb-a322-dff6f8ad8004",
   "metadata": {},
   "outputs": [],
   "source": [
    "model = Sequential()\n",
    "model.add(Dense(128, input_shape=(13,)))\n",
    "model.add(Activation('relu'))\n",
    "model.add(Dropout(0.2))\n",
    "model.add(Dense(56))\n",
    "model.add(Activation('relu'))\n",
    "model.add(Dropout(0.2))\n",
    "model.add(Dense(10))\n",
    "model.add(Activation('softmax'))\n",
    "\n",
    "sgd = SGD(learning_rate=0.1)\n",
    "model.compile(sgd, 'categorical_crossentropy', ['acc'])"
   ]
  },
  {
   "cell_type": "code",
   "execution_count": 60,
   "id": "4ac82a54-4df0-41da-bd3a-1a11c6c2732f",
   "metadata": {},
   "outputs": [
    {
     "name": "stdout",
     "output_type": "stream",
     "text": [
      "Epoch 1/8\n",
      "6/6 [==============================] - 1s 47ms/step - loss: 1393308.6250 - acc: 0.3956 - val_loss: 2.2021 - val_acc: 0.4324\n",
      "Epoch 2/8\n",
      "6/6 [==============================] - 0s 8ms/step - loss: 2.0948 - acc: 0.5055 - val_loss: 1.9701 - val_acc: 0.5541\n",
      "Epoch 3/8\n",
      "6/6 [==============================] - 0s 8ms/step - loss: 1.8653 - acc: 0.5330 - val_loss: 1.7648 - val_acc: 0.5541\n",
      "Epoch 4/8\n",
      "6/6 [==============================] - 0s 7ms/step - loss: 1.6766 - acc: 0.5330 - val_loss: 1.5835 - val_acc: 0.5541\n",
      "Epoch 5/8\n",
      "6/6 [==============================] - 0s 8ms/step - loss: 1.5058 - acc: 0.5330 - val_loss: 1.4227 - val_acc: 0.5541\n",
      "Epoch 6/8\n",
      "6/6 [==============================] - 0s 7ms/step - loss: 1.3568 - acc: 0.5330 - val_loss: 1.2815 - val_acc: 0.5541\n",
      "Epoch 7/8\n",
      "6/6 [==============================] - 0s 8ms/step - loss: 1.2323 - acc: 0.5330 - val_loss: 21366.3887 - val_acc: 0.4459\n",
      "Epoch 8/8\n",
      "6/6 [==============================] - 0s 8ms/step - loss: 6624.6304 - acc: 0.4890 - val_loss: 1.1299 - val_acc: 0.5541\n",
      "\n",
      "\n",
      "Accuracy: 0.5540540814399719\n"
     ]
    }
   ],
   "source": [
    "model.fit(x_train, y_train,\n",
    "        batch_size=batch_size,\n",
    "        epochs=epochs,\n",
    "        verbose=1,\n",
    "        validation_data=(x_test, y_test))\n",
    "score = model.evaluate(x_test, y_test, verbose=0)\n",
    "\n",
    "print('\\n')\n",
    "print('Accuracy:',score[1])"
   ]
  },
  {
   "cell_type": "markdown",
   "id": "baa9cb23-0d6e-4c4d-8ede-8b20a4225149",
   "metadata": {},
   "source": [
    "## Model Evalution"
   ]
  },
  {
   "cell_type": "markdown",
   "id": "cd7036d1-b8f2-41f0-9e0c-2af78788f0df",
   "metadata": {},
   "source": [
    "Evaluate for the best model: RandomForestClassifer\n",
    "\n",
    "\n",
    "·      Confusion Matrix\n",
    "·      Accuracy\n",
    "·      Precision\n",
    "·      Recall\n",
    "·      F1-score\n",
    "·      True positive rate\n",
    "·      False positive rate"
   ]
  },
  {
   "cell_type": "code",
   "execution_count": 61,
   "id": "8253ad69-8cff-4b45-9f9a-79bd2f065679",
   "metadata": {},
   "outputs": [],
   "source": [
    "from pyspark.mllib.evaluation import BinaryClassificationMetrics"
   ]
  },
  {
   "cell_type": "code",
   "execution_count": 62,
   "id": "83ff0a86-b502-4679-9b23-5fa2655bba33",
   "metadata": {},
   "outputs": [
    {
     "name": "stderr",
     "output_type": "stream",
     "text": [
      "/Users/saraiaccheo/anaconda3/envs/cap_env/lib/python3.10/site-packages/pyspark/sql/context.py:158: FutureWarning: Deprecated in 3.0.0. Use SparkSession.builder.getOrCreate() instead.\n",
      "  warnings.warn(\n",
      "                                                                                \r"
     ]
    }
   ],
   "source": [
    "predictionAndLabels =  prediction2.rdd.map(lambda lp: (lp.prediction, lp.label))\n",
    "\n",
    "metrics = BinaryClassificationMetrics(predictionAndLabels)"
   ]
  },
  {
   "cell_type": "code",
   "execution_count": 63,
   "id": "e4d107ff-d401-4b53-ba5a-1a929618e200",
   "metadata": {},
   "outputs": [
    {
     "name": "stderr",
     "output_type": "stream",
     "text": [
      "[Stage 636:>                                                        (0 + 1) / 1]\r"
     ]
    },
    {
     "name": "stdout",
     "output_type": "stream",
     "text": [
      "Area under PR = 0.9907586206896551\n",
      "Area under ROC = 0.9827586206896552\n"
     ]
    },
    {
     "name": "stderr",
     "output_type": "stream",
     "text": [
      "                                                                                \r"
     ]
    }
   ],
   "source": [
    "# Area under precision-recall curve\n",
    "print(\"Area under PR = %s\" % metrics.areaUnderPR)\n",
    "\n",
    "# Area under ROC curve\n",
    "print(\"Area under ROC = %s\" % metrics.areaUnderROC)"
   ]
  },
  {
   "cell_type": "code",
   "execution_count": 64,
   "id": "e0fcce83-f679-4499-acd7-4e5eec347871",
   "metadata": {},
   "outputs": [],
   "source": [
    "from pyspark.mllib.evaluation import MulticlassMetrics\n",
    "M_metrics = MulticlassMetrics(predictionAndLabels)"
   ]
  },
  {
   "cell_type": "code",
   "execution_count": 65,
   "id": "855445e0-e17b-44f5-919a-02a52fdac24c",
   "metadata": {},
   "outputs": [
    {
     "name": "stdout",
     "output_type": "stream",
     "text": [
      "precision = 1.0\n",
      "recall = 0.9655172413793104\n",
      "f-1 = 0.9824561403508771\n"
     ]
    },
    {
     "name": "stderr",
     "output_type": "stream",
     "text": [
      "                                                                                \r"
     ]
    }
   ],
   "source": [
    "# precision\n",
    "print(\"precision = %s\" % M_metrics.precision(1.0))\n",
    "\n",
    "# recall\n",
    "print(\"recall = %s\" % M_metrics.recall(1.0))\n",
    "\n",
    "#f-1\n",
    "print(\"f-1 = %s\" %M_metrics.fMeasure(1.0))"
   ]
  },
  {
   "cell_type": "code",
   "execution_count": 66,
   "id": "e75dd9d9-3e9c-4be3-b834-79aa1c179dd6",
   "metadata": {},
   "outputs": [
    {
     "data": {
      "text/plain": [
       "array([[134.,   0.],\n",
       "       [  4., 112.]])"
      ]
     },
     "execution_count": 66,
     "metadata": {},
     "output_type": "execute_result"
    }
   ],
   "source": [
    "# Confusion Matrix\n",
    "M_metrics.confusionMatrix().toArray()"
   ]
  },
  {
   "cell_type": "code",
   "execution_count": 67,
   "id": "d7849c27-8dcb-4834-b001-eb8a1f5e1c7d",
   "metadata": {},
   "outputs": [
    {
     "name": "stdout",
     "output_type": "stream",
     "text": [
      "False Positive rate = 0.034482758620689655\n",
      "True Positive rate = 1.0\n"
     ]
    }
   ],
   "source": [
    "print(\"False Positive rate = %s\" %M_metrics.falsePositiveRate(0.0))\n",
    "print(\"True Positive rate = %s\" %M_metrics.truePositiveRate(0.0))"
   ]
  },
  {
   "cell_type": "markdown",
   "id": "df9fe91b-7104-43ac-bf1f-893bf747c115",
   "metadata": {},
   "source": [
    "## Save Model"
   ]
  },
  {
   "cell_type": "code",
   "execution_count": 72,
   "id": "c85c8831-cac8-4582-bd6c-ebe889d62e17",
   "metadata": {},
   "outputs": [
    {
     "name": "stderr",
     "output_type": "stream",
     "text": [
      "                                                                                \r"
     ]
    }
   ],
   "source": [
    "model2.write().overwrite().save(\"predict_heart_attack\")"
   ]
  },
  {
   "cell_type": "code",
   "execution_count": null,
   "id": "ddbce6ae-8772-4d8b-b017-e1d545625e2c",
   "metadata": {},
   "outputs": [],
   "source": []
  }
 ],
 "metadata": {
  "kernelspec": {
   "display_name": "Python 3 (ipykernel)",
   "language": "python",
   "name": "python3"
  },
  "language_info": {
   "codemirror_mode": {
    "name": "ipython",
    "version": 3
   },
   "file_extension": ".py",
   "mimetype": "text/x-python",
   "name": "python",
   "nbconvert_exporter": "python",
   "pygments_lexer": "ipython3",
   "version": "3.10.13"
  }
 },
 "nbformat": 4,
 "nbformat_minor": 5
}
